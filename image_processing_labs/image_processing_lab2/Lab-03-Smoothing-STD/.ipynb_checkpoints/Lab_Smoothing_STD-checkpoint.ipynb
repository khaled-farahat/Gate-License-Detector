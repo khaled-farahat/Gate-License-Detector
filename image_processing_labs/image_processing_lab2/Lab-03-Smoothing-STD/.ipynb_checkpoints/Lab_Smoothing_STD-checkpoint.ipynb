{
 "cells": [
  {
   "cell_type": "markdown",
   "metadata": {},
   "source": [
    "# Lab 3\n",
    "### Averaging Filters\n",
    "\n",
    "http://scikit-image.org/docs/0.13.x/api/skimage.util.html#skimage.util.random_noise\n",
    "\n",
    "http://scikit-image.org/docs/dev/api/skimage.filters.html#skimage.filters.median\n",
    "\n",
    "http://scikit-image.org/docs/dev/api/skimage.filters.html#skimage.filters.gaussian"
   ]
  },
  {
   "cell_type": "code",
   "execution_count": 6,
   "metadata": {},
   "outputs": [
    {
     "name": "stdout",
     "output_type": "stream",
     "text": [
      "The autoreload extension is already loaded. To reload it, use:\n",
      "  %reload_ext autoreload\n"
     ]
    }
   ],
   "source": [
    "from commonfunctions import *\n",
    "import math\n",
    "from skimage.color import rgb2gray\n",
    "\n",
    "%matplotlib inline\n",
    "%load_ext autoreload\n",
    "%autoreload 2"
   ]
  },
  {
   "cell_type": "code",
   "execution_count": 15,
   "metadata": {},
   "outputs": [],
   "source": [
    "img=rgb2gray(io.imread('bird.jpg'))\n",
    "noisy_image = random_noise(img,mode='s&p')"
   ]
  },
  {
   "cell_type": "code",
   "execution_count": null,
   "metadata": {},
   "outputs": [],
   "source": [
    "'''\n",
    "(1) Your own median filter algorithm\n",
    "\n",
    "'''\n",
    "import cv2\n",
    "import numpy as np\n",
    "\n",
    "\n",
    "# Read the image\n",
    "img_noisy1 = cv2.imread('sample.png', 0)\n",
    "\n",
    "# Obtain the number of rows and columns\n",
    "# of the image\n",
    "m, n = img_noisy1.shape\n",
    "\n",
    "# Traverse the image. For every 3X3 area,\n",
    "# find the median of the pixels and\n",
    "# replace the center pixel by the median\n",
    "img_new1 = np.zeros([m, n])\n",
    "\n",
    "for i in range(1, m-1):\n",
    "\tfor j in range(1, n-1):\n",
    "\t\ttemp = [img_noisy1[i-1, j-1],\n",
    "\t\t\timg_noisy1[i-1, j],\n",
    "\t\t\timg_noisy1[i-1, j + 1],\n",
    "\t\t\timg_noisy1[i, j-1],\n",
    "\t\t\timg_noisy1[i, j],\n",
    "\t\t\timg_noisy1[i, j + 1],\n",
    "\t\t\timg_noisy1[i + 1, j-1],\n",
    "\t\t\timg_noisy1[i + 1, j],\n",
    "\t\t\timg_noisy1[i + 1, j + 1]]\n",
    "\t\t\n",
    "\t\ttemp = sorted(temp)\n",
    "\t\timg_new1[i, j]= temp[4]\n",
    "\n",
    "img_new1 = img_new1.astype(np.uint8)\n",
    "cv2.imwrite('new_median_filtered.png', img_new1)\n"
   ]
  },
  {
   "cell_type": "code",
   "execution_count": null,
   "metadata": {},
   "outputs": [],
   "source": [
    "'''\n",
    "(2) skimage median filter\n",
    "'''"
   ]
  },
  {
   "cell_type": "code",
   "execution_count": null,
   "metadata": {},
   "outputs": [],
   "source": [
    "'''\n",
    "(3) Gaussion Filters\n",
    "'''"
   ]
  }
 ],
 "metadata": {
  "kernelspec": {
   "display_name": "Python 3",
   "language": "python",
   "name": "python3"
  },
  "language_info": {
   "codemirror_mode": {
    "name": "ipython",
    "version": 3
   },
   "file_extension": ".py",
   "mimetype": "text/x-python",
   "name": "python",
   "nbconvert_exporter": "python",
   "pygments_lexer": "ipython3",
   "version": "3.8.8"
  }
 },
 "nbformat": 4,
 "nbformat_minor": 2
}
