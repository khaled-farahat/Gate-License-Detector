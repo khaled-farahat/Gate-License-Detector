{
 "cells": [
  {
   "cell_type": "code",
   "execution_count": 1,
   "metadata": {},
   "outputs": [],
   "source": [
    "import cv2\n",
    "import numpy as np\n",
    " "
   ]
  },
  {
   "cell_type": "code",
   "execution_count": 7,
   "metadata": {},
   "outputs": [
    {
     "data": {
      "text/plain": [
       "True"
      ]
     },
     "execution_count": 7,
     "metadata": {},
     "output_type": "execute_result"
    }
   ],
   "source": [
    "# Reading the required image in\n",
    "# which operations are to be done.\n",
    "# Make sure that the image is in the same\n",
    "# directory in which this python program is\n",
    "img = cv2.imread('1.jpg')\n",
    " \n",
    "# Convert the img to grayscale\n",
    "gray = cv2.cvtColor(img, cv2.COLOR_BGR2GRAY)\n",
    " \n",
    "# Apply edge detection method on the image\n",
    "edges = cv2.Canny(gray, 50, 150, apertureSize=3)\n",
    "# cv2.imshow('edges', edges)\n",
    "# cv2.waitKey(0)\n",
    " \n",
    "# This returns an array of r and theta values\n",
    "# lines = cv2.HoughLines(edges, 1, np.pi/180, 200)\n",
    " \n",
    "minLineLength = 1\n",
    "maxLineGap = 10\n",
    "lines = cv2.HoughLinesP(edges,1,np.pi/180,100,minLineLength,maxLineGap)\n",
    "for x1,y1,x2,y2 in lines[0]:\n",
    "    cv2.line(img,(x1,y1),(x2,y2),(0,255,0),2)\n",
    "\n",
    "cv2.imwrite('houghlines5.jpg',img)"
   ]
  },
  {
   "cell_type": "code",
   "execution_count": 8,
   "metadata": {},
   "outputs": [
    {
     "ename": "NameError",
     "evalue": "name 'max_slider' is not defined",
     "output_type": "error",
     "traceback": [
      "\u001b[1;31m---------------------------------------------------------------------------\u001b[0m",
      "\u001b[1;31mNameError\u001b[0m                                 Traceback (most recent call last)",
      "Cell \u001b[1;32mIn [8], line 7\u001b[0m\n\u001b[0;32m      5\u001b[0m edges \u001b[39m=\u001b[39m cv2\u001b[39m.\u001b[39mCanny(gray, \u001b[39m50\u001b[39m, \u001b[39m200\u001b[39m)\n\u001b[0;32m      6\u001b[0m \u001b[39m# Detect points that form a line\u001b[39;00m\n\u001b[1;32m----> 7\u001b[0m lines \u001b[39m=\u001b[39m cv2\u001b[39m.\u001b[39mHoughLinesP(edges, \u001b[39m1\u001b[39m, np\u001b[39m.\u001b[39mpi\u001b[39m/\u001b[39m\u001b[39m180\u001b[39m, max_slider, minLineLength\u001b[39m=\u001b[39m\u001b[39m10\u001b[39m, maxLineGap\u001b[39m=\u001b[39m\u001b[39m250\u001b[39m)\n\u001b[0;32m      8\u001b[0m \u001b[39m# Draw lines on the image\u001b[39;00m\n\u001b[0;32m      9\u001b[0m \u001b[39mfor\u001b[39;00m line \u001b[39min\u001b[39;00m lines:\n",
      "\u001b[1;31mNameError\u001b[0m: name 'max_slider' is not defined"
     ]
    }
   ],
   "source": [
    "img = cv2.imread('1.jpg', cv2.IMREAD_COLOR) # road.png is the filename\n",
    "# Convert the image to gray-scale\n",
    "gray = cv2.cvtColor(img, cv2.COLOR_BGR2GRAY)\n",
    "# Find the edges in the image using canny detector\n",
    "edges = cv2.Canny(gray, 50, 200)\n",
    "# Detect points that form a line\n",
    "lines = cv2.HoughLinesP(edges, 1, np.pi/180, max_slider, minLineLength=10, maxLineGap=250)\n",
    "# Draw lines on the image\n",
    "for line in lines:\n",
    "    x1, y1, x2, y2 = line[0]\n",
    "    cv2.line(img, (x1, y1), (x2, y2), (255, 0, 0), 3)\n",
    "# Show result\n",
    "cv2.imshow(\"Result Image\", img)"
   ]
  },
  {
   "cell_type": "code",
   "execution_count": null,
   "metadata": {},
   "outputs": [],
   "source": []
  }
 ],
 "metadata": {
  "kernelspec": {
   "display_name": "Python 3",
   "language": "python",
   "name": "python3"
  },
  "language_info": {
   "codemirror_mode": {
    "name": "ipython",
    "version": 3
   },
   "file_extension": ".py",
   "mimetype": "text/x-python",
   "name": "python",
   "nbconvert_exporter": "python",
   "pygments_lexer": "ipython3",
   "version": "3.10.8 (tags/v3.10.8:aaaf517, Oct 11 2022, 16:50:30) [MSC v.1933 64 bit (AMD64)]"
  },
  "orig_nbformat": 4,
  "vscode": {
   "interpreter": {
    "hash": "936928c2ddde0b65a0f37be651c36e10964fc87deab2be0d9d2301d27ccb4291"
   }
  }
 },
 "nbformat": 4,
 "nbformat_minor": 2
}
