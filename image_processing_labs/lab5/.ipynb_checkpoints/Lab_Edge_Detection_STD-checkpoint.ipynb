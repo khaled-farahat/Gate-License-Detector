{
 "cells": [
  {
   "cell_type": "markdown",
   "metadata": {},
   "source": [
    "# Lab 4 - part2\n",
    "\n",
    "### Edge Detection\n",
    "\n",
    "https://github.com/scikit-image/scikit-image/blob/master/skimage/filters/edges.py\n",
    "\n",
    "http://scikit-image.org/docs/0.11.x/auto_examples/plot_edge_filter.html\n",
    "\n",
    "http://scikit-image.org/docs/dev/auto_examples/edges/plot_canny.html\n"
   ]
  },
  {
   "cell_type": "code",
   "execution_count": null,
   "metadata": {},
   "outputs": [],
   "source": [
    "from commonfunctions import *\n",
    "%matplotlib inline\n",
    "%load_ext autoreload\n",
    "%autoreload 2\n",
    "from skimage import feature\n",
    "from scipy import ndimage, misc\n",
    "from skimage import filters\n",
    "from scipy.signal import convolve2d\n",
    "\n",
    "import cv2\n"
   ]
  },
  {
   "cell_type": "code",
   "execution_count": null,
   "metadata": {},
   "outputs": [],
   "source": [
    "'''\n",
    "1. Built-in Sobel, Prewill, Roberts, Canny\n",
    "2. Custom Sobel (V-H-Both)\n",
    "3. Custom LoG\n",
    "'''\n"
   ]
  },
  {
   "cell_type": "code",
   "execution_count": null,
   "metadata": {},
   "outputs": [],
   "source": [
    "# 1. Built-in Sobel, Prewill, Roberts, Canny\n",
    "\n",
    "# img = rgb2gray(io.imread('circuit.tif'))\n",
    "img = io.imread('circuit.tif')\n",
    "sobel_img = sobel(img)\n",
    "sobel_img_v = sobel_v(img)\n",
    "sobel_img_h = sobel_h(img)\n",
    "prewitt_img = prewitt(img)\n",
    "roberts_img = roberts(img)\n",
    "canny_img = canny(img)\n",
    "\n",
    "show_images([img, sobel_img, sobel_img_v, sobel_img_h, prewitt_img, roberts_img,  canny_img], [\n",
    "            'original', 'sobel', 'sobel_v', 'sobel_h', 'prewitt', 'roberts', 'canny'])\n"
   ]
  },
  {
   "cell_type": "code",
   "execution_count": null,
   "metadata": {},
   "outputs": [],
   "source": [
    "# 2. Custom Sobel (V-H-Both)\n",
    "hx = np.array([[1,0,-1],[2,0,-2],[1,0,-1]])\n",
    "hy = np.array([[-1,-2,-1],[0,0,0],[1,2,1]])\n",
    "imgx= convolve2d(img , hx)\n",
    "imgy= convolve2d(img , hy)\n",
    "imgf = np.sqrt(np.abs(imgx*2) + np.abs(imgy*2))\n",
    "show_images([imgx,imgy,imgf] , ['img_x' , 'img_y','img_f'])"
   ]
  },
  {
   "cell_type": "code",
   "execution_count": null,
   "metadata": {},
   "outputs": [],
   "source": [
    "# 3. Custom LoG\n",
    "thres = 20\n",
    "log1 = f4 = np.array([\n",
    "    [-1, -1, -1],\n",
    "    [-1, 8, -1],\n",
    "    [-1, -1, -1]\n",
    "])\n",
    "log2 = np.array([[0, 1, 0], [1, -4, 1], [0, 1, 0]])\n",
    "print(log1)\n",
    "# custom_log_img = np.copy(img)\n",
    "custom_log_img = io.imread('circuit.tif')\n",
    "print(custom_log_img)\n",
    "g1 = gaussian(custom_log_img, sigma=1)\n",
    "print(np.max(g1))\n",
    "print(np.min(g1))\n",
    "# print(np.min(try1))\n",
    "show_images([g1], ['dd'])\n",
    "# imgx = convolve2d(g1, log1)\n",
    "imgx = cv2.filter2D(g1, -1, log1)\n",
    "imgx = np.abs(imgx)\n",
    "# imgy = convolve2d(g1, log2)\n",
    "imgy = cv2.filter2D(g1, -1, log2)\n",
    "imgy = np.abs(imgy)\n",
    "# imgx=np.abs(imgx)\n",
    "# print(imgx*255)\n",
    "show_images([imgx, imgy], ['dd', 'gg'])\n",
    "print(np.max(imgx))\n",
    "print(np.min(imgx))\n",
    "print(np.max(imgy))\n",
    "print(np.min(imgy))\n",
    "\n",
    "imgx[(imgx > 0.1)] = 1\n",
    "imgx[(imgx < 0.1)] = 0\n",
    "print(imgx)\n",
    "imgy[(imgy > 0.027)] = 1\n",
    "imgy[(imgy < 0.027)] = 0\n",
    "print(imgy)\n",
    "\n",
    "\n",
    "# print(imgx)\n",
    "# ret, bw_img = cv2.threshold(imgy,0.7, 1, cv2.THRESH_BINARY)\n",
    "\n",
    "\n",
    "show_images([img, imgx, imgy], ['Original_img',\n",
    "            '8_neighbor_hood', '4_neighbor_hood'])\n"
   ]
  },
  {
   "cell_type": "code",
   "execution_count": null,
   "metadata": {},
   "outputs": [],
   "source": [
    "'''\n",
    "Optional\n",
    "1-Make edge detection\n",
    "2-Multiply by factor < 1\n",
    "3-Subtract (Orginal Image) - (Edge Detection Image)\n",
    "'''\n"
   ]
  }
 ],
 "metadata": {
  "kernelspec": {
   "display_name": "Python 3.10.8 64-bit",
   "language": "python",
   "name": "python3"
  },
  "language_info": {
   "codemirror_mode": {
    "name": "ipython",
    "version": 3
   },
   "file_extension": ".py",
   "mimetype": "text/x-python",
   "name": "python",
   "nbconvert_exporter": "python",
   "pygments_lexer": "ipython3",
   "version": "3.10.8"
  },
  "vscode": {
   "interpreter": {
    "hash": "936928c2ddde0b65a0f37be651c36e10964fc87deab2be0d9d2301d27ccb4291"
   }
  }
 },
 "nbformat": 4,
 "nbformat_minor": 2
}
